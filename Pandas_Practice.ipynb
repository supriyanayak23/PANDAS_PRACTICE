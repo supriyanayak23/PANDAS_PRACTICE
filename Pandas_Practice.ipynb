{
 "cells": [
  {
   "cell_type": "code",
   "execution_count": 6,
   "metadata": {},
   "outputs": [
    {
     "name": "stdout",
     "output_type": "stream",
     "text": [
      "A    10\n",
      "B    20\n",
      "C    30\n",
      "D    40\n",
      "dtype: int64\n",
      "A<generator object <genexpr> at 0x11a975970>    10\n",
      "B<generator object <genexpr> at 0x11a975970>    20\n",
      "C<generator object <genexpr> at 0x11a975970>    30\n",
      "D<generator object <genexpr> at 0x11a975970>    40\n",
      "dtype: int64\n"
     ]
    }
   ],
   "source": [
    "import pandas as pd\n",
    "s = pd.Series(data = [10,20,30,40], index = [\"A\",'B','C','D'])\n",
    "print(s)\n",
    "print(s.add_suffix(\"Label_\"+x for x in s))"
   ]
  },
  {
   "cell_type": "code",
   "execution_count": 15,
   "metadata": {},
   "outputs": [
    {
     "name": "stdout",
     "output_type": "stream",
     "text": [
      "[3 4]\n",
      "0    3\n",
      "1    4\n",
      "dtype: int64\n",
      "0    999\n",
      "1      4\n",
      "dtype: int64\n",
      "[3 4]\n"
     ]
    }
   ],
   "source": [
    "import pandas as pd\n",
    "import numpy as np\n",
    "r = [1,2]\n",
    "a = np.array([3,4])\n",
    "print(a)\n",
    "ser = pd.Series(data = a, copy = True)\n",
    "print(ser)\n",
    "ser.iloc[0] = 999\n",
    "print(ser)\n",
    "print(a)"
   ]
  },
  {
   "cell_type": "code",
   "execution_count": 24,
   "metadata": {},
   "outputs": [
    {
     "name": "stdout",
     "output_type": "stream",
     "text": [
      "B    10\n",
      "C    20\n",
      "B    30\n",
      "dtype: int64\n"
     ]
    }
   ],
   "source": [
    "s = pd.Series(data = np.array([10,20,30]), index = [\"B\",\"C\",\"B\"])\n",
    "print(s)"
   ]
  },
  {
   "cell_type": "code",
   "execution_count": 25,
   "metadata": {},
   "outputs": [
    {
     "name": "stdout",
     "output_type": "stream",
     "text": [
      "1    10.0\n",
      "2    20.0\n",
      "5     NaN\n",
      "dtype: float64\n"
     ]
    }
   ],
   "source": [
    "dict = {1:10,2:20,3:30,4:40}\n",
    "s = pd.Series(data = dict, index = [1,2,5])\n",
    "print(s)"
   ]
  },
  {
   "cell_type": "code",
   "execution_count": 28,
   "metadata": {},
   "outputs": [
    {
     "name": "stdout",
     "output_type": "stream",
     "text": [
      "0    1\n",
      "1    2\n",
      "2    3\n",
      "3    4\n",
      "dtype: int64\n",
      "RangeIndex(start=10, stop=20, step=3)\n",
      "10    1\n",
      "13    2\n",
      "16    3\n",
      "19    4\n",
      "dtype: int64\n"
     ]
    }
   ],
   "source": [
    "a = [1,2,3,4]\n",
    "s = pd.Series(data = a)\n",
    "print(s)\n",
    "s.index = pd.RangeIndex(start = 10, stop = 20, step = 3)\n",
    "print(s.index)\n",
    "print(s)"
   ]
  },
  {
   "cell_type": "code",
   "execution_count": 30,
   "metadata": {},
   "outputs": [
    {
     "name": "stdout",
     "output_type": "stream",
     "text": [
      "0    1\n",
      "1    2\n",
      "2    3\n",
      "3    4\n",
      "dtype: int64\n",
      "RangeIndex(start=10, stop=20, step=3)\n",
      "10    1\n",
      "13    2\n",
      "16    3\n",
      "19    4\n",
      "dtype: int64\n"
     ]
    }
   ],
   "source": [
    "a = [1,2,3,4]\n",
    "s = pd.Series(data = a)\n",
    "print(s)\n",
    "s.index = pd.RangeIndex(start = 10, stop = 20, step = 3)\n",
    "print(s.index)\n",
    "print(s)"
   ]
  },
  {
   "cell_type": "code",
   "execution_count": 32,
   "metadata": {},
   "outputs": [
    {
     "name": "stdout",
     "output_type": "stream",
     "text": [
      "Default index\n",
      "0    1\n",
      "1    2\n",
      "2    3\n",
      "3    4\n",
      "Name: NUmbers, dtype: int64\n"
     ]
    }
   ],
   "source": [
    "a = [1,2,3,4]\n",
    "s = pd.Series(data = a)\n",
    "s.name = \"NUmbers\"\n",
    "s.index.name = \"Default index\"\n",
    "print(s)"
   ]
  },
  {
   "cell_type": "code",
   "execution_count": 36,
   "metadata": {},
   "outputs": [
    {
     "name": "stdout",
     "output_type": "stream",
     "text": [
      "[3 4]\n",
      "0    3\n",
      "1    4\n",
      "dtype: int64\n",
      "0    999\n",
      "1      4\n",
      "dtype: int64\n",
      "[999   4]\n"
     ]
    }
   ],
   "source": [
    "import pandas as pd\n",
    "import numpy as np\n",
    "r = [1,2]\n",
    "a = np.array([3,4])\n",
    "print(a)\n",
    "ser = pd.Series(data = a, copy = False)\n",
    "print(ser)\n",
    "ser[0] = 999\n",
    "print(ser)\n",
    "print(a)"
   ]
  },
  {
   "cell_type": "code",
   "execution_count": 44,
   "metadata": {},
   "outputs": [
    {
     "name": "stdout",
     "output_type": "stream",
     "text": [
      "9      9\n",
      "10    10\n",
      "11    11\n",
      "12    12\n",
      "13    13\n",
      "14    14\n",
      "dtype: int64\n",
      "9      9\n",
      "10    10\n",
      "11    11\n",
      "12    12\n",
      "13    13\n",
      "14    14\n",
      "dtype: int64\n"
     ]
    }
   ],
   "source": [
    "s = pd.Series([i for i in range(20)])\n",
    "#print(s)\n",
    "print(s.head(15).tail(-9))\n",
    "print(s.head(15).tail(6))"
   ]
  },
  {
   "cell_type": "code",
   "execution_count": 50,
   "metadata": {},
   "outputs": [
    {
     "data": {
      "text/plain": [
       "23    X\n",
       "24    Y\n",
       "25    Z\n",
       "dtype: object"
      ]
     },
     "execution_count": 50,
     "metadata": {},
     "output_type": "execute_result"
    }
   ],
   "source": [
    "from string import ascii_uppercase\n",
    "a = list(ascii_uppercase)\n",
    "s = pd.Series(data = a)\n",
    "#print(s)\n",
    "#s[s.size-1]\n",
    "#s[-3:]\n",
    "s[s.size-3:]"
   ]
  },
  {
   "cell_type": "code",
   "execution_count": 65,
   "metadata": {},
   "outputs": [
    {
     "name": "stdout",
     "output_type": "stream",
     "text": [
      "B\n",
      "None\n"
     ]
    },
    {
     "data": {
      "text/plain": [
       "Lable_D    D\n",
       "Lable_G    G\n",
       "Lable_M    M\n",
       "dtype: object"
      ]
     },
     "execution_count": 65,
     "metadata": {},
     "output_type": "execute_result"
    }
   ],
   "source": [
    "from string import ascii_uppercase\n",
    "a = list(ascii_uppercase)\n",
    "s = pd.Series(data = a, index = a)\n",
    "s = s.add_prefix(\"Lable_\")\n",
    "#print(s)\n",
    "print(s.Lable_B)\n",
    "#print(s.Lable_WW)\n",
    "print(s.get(\"Lable_WW\"))\n",
    "s.get([0,3,7])\n",
    "s.get([\"Lable_D\",\"Lable_G\",\"Lable_M\"])"
   ]
  },
  {
   "cell_type": "code",
   "execution_count": 71,
   "metadata": {},
   "outputs": [
    {
     "name": "stdout",
     "output_type": "stream",
     "text": [
      "V\n",
      "Z\n"
     ]
    }
   ],
   "source": [
    "from string import ascii_uppercase\n",
    "a = list(ascii_uppercase)\n",
    "s = pd.Series(data = a, index = a)\n",
    "s = s.add_prefix(\"Lable_\")\n",
    "print(s[-5])\n",
    "print(s.iloc[-1])"
   ]
  },
  {
   "cell_type": "code",
   "execution_count": 78,
   "metadata": {},
   "outputs": [
    {
     "data": {
      "text/plain": [
       "'J'"
      ]
     },
     "execution_count": 78,
     "metadata": {},
     "output_type": "execute_result"
    }
   ],
   "source": [
    "from string import ascii_uppercase\n",
    "a = list(ascii_uppercase)\n",
    "s = pd.Series(data = a)\n",
    "#s = s.add_prefix(\"Lable_\")\n",
    "s.iloc[9]"
   ]
  },
  {
   "cell_type": "code",
   "execution_count": null,
   "metadata": {},
   "outputs": [],
   "source": []
  }
 ],
 "metadata": {
  "kernelspec": {
   "display_name": "Python 3",
   "language": "python",
   "name": "python3"
  },
  "language_info": {
   "codemirror_mode": {
    "name": "ipython",
    "version": 3
   },
   "file_extension": ".py",
   "mimetype": "text/x-python",
   "name": "python",
   "nbconvert_exporter": "python",
   "pygments_lexer": "ipython3",
   "version": "3.8.5"
  }
 },
 "nbformat": 4,
 "nbformat_minor": 4
}
